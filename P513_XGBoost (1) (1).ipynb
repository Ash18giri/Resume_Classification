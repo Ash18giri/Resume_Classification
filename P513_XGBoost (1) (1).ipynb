{
 "cells": [
  {
   "cell_type": "code",
   "execution_count": 5,
   "metadata": {
    "colab": {
     "base_uri": "https://localhost:8080/"
    },
    "id": "c4IUL2BSAVTe",
    "outputId": "e3a35af6-4b32-411b-adc1-5cebcac43681"
   },
   "outputs": [
    {
     "name": "stderr",
     "output_type": "stream",
     "text": [
      "[nltk_data] Downloading package stopwords to\n",
      "[nltk_data]     C:\\Users\\admin\\AppData\\Roaming\\nltk_data...\n",
      "[nltk_data]   Package stopwords is already up-to-date!\n",
      "[nltk_data] Downloading package wordnet to\n",
      "[nltk_data]     C:\\Users\\admin\\AppData\\Roaming\\nltk_data...\n",
      "[nltk_data]   Package wordnet is already up-to-date!\n"
     ]
    },
    {
     "name": "stdout",
     "output_type": "stream",
     "text": [
      "Training Accuracy: 1.0\n",
      "Testing Accuracy: 1.0\n",
      "Vectorizer, Encoder, and Model saved successfully.\n"
     ]
    }
   ],
   "source": [
    "import pandas as pd\n",
    "import re\n",
    "import nltk\n",
    "import pickle\n",
    "from sklearn.feature_extraction.text import CountVectorizer\n",
    "from sklearn.model_selection import train_test_split\n",
    "from xgboost import XGBClassifier\n",
    "from sklearn.preprocessing import OrdinalEncoder\n",
    "from nltk.corpus import stopwords\n",
    "from nltk.stem import WordNetLemmatizer\n",
    "\n",
    "# Load dataset\n",
    "df = pd.read_excel(\"./consolidated_resumes.xlsx\")\n",
    "\n",
    "\n",
    "# Text preprocessing\n",
    "nltk.download(\"stopwords\")\n",
    "nltk.download(\"wordnet\")\n",
    "lemma = WordNetLemmatizer()\n",
    "stop_words = set(stopwords.words(\"english\"))\n",
    "\n",
    "df['Cleaned Text'] = df['Extracted Text'].astype(str).apply(lambda x:\n",
    "    ' '.join([lemma.lemmatize(word) for word in re.sub('[^a-zA-Z]', ' ', x).lower().split() if word not in stop_words])\n",
    ")\n",
    "\n",
    "# Initialize and fit CountVectorizer\n",
    "vectorizer = CountVectorizer()\n",
    "X = vectorizer.fit_transform(df['Cleaned Text'])\n",
    "\n",
    "# Save the vectorizer\n",
    "with open(\"vectorizer1.pkl\", \"wb\") as vec_file:\n",
    "    pickle.dump(vectorizer, vec_file)\n",
    "\n",
    "# Encode labels\n",
    "encoder = OrdinalEncoder()\n",
    "y = encoder.fit_transform(df[['Category']])\n",
    "\n",
    "# Save the encoder\n",
    "with open(\"label_encoder.pkl\", \"wb\") as enc_file:\n",
    "    pickle.dump(encoder, enc_file)\n",
    "\n",
    "# Train-test split\n",
    "X_train, X_test, y_train, y_test = train_test_split(X, y, test_size=0.2, random_state=42)\n",
    "\n",
    "# Train XGBoost model\n",
    "def prediction(model):\n",
    "    model.fit(X_train, y_train)\n",
    "    y_pred = model.predict(X_test)\n",
    "    print(\"Training Accuracy:\", model.score(X_train, y_train))\n",
    "    print(\"Testing Accuracy:\", model.score(X_test, y_test))\n",
    "    return model\n",
    "\n",
    "# Train and save the model\n",
    "model = prediction(XGBClassifier(reg_lambda=1, learning_rate=0.1, max_depth=3, n_estimators=70))\n",
    "with open(\"clf.pkl\", \"wb\") as model_file:\n",
    "    pickle.dump(model, model_file)\n",
    "\n",
    "print(\"Vectorizer, Encoder, and Model saved successfully.\")\n"
   ]
  },
  {
   "cell_type": "code",
   "execution_count": null,
   "metadata": {},
   "outputs": [],
   "source": []
  }
 ],
 "metadata": {
  "colab": {
   "provenance": []
  },
  "kernelspec": {
   "display_name": "Python [conda env:base] *",
   "language": "python",
   "name": "conda-base-py"
  },
  "language_info": {
   "codemirror_mode": {
    "name": "ipython",
    "version": 3
   },
   "file_extension": ".py",
   "mimetype": "text/x-python",
   "name": "python",
   "nbconvert_exporter": "python",
   "pygments_lexer": "ipython3",
   "version": "3.12.7"
  }
 },
 "nbformat": 4,
 "nbformat_minor": 4
}
